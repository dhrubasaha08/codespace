{
 "cells": [
  {
   "cell_type": "code",
   "execution_count": 1,
   "metadata": {},
   "outputs": [],
   "source": [
    "def main():\n",
    "    with open('input.txt', 'r') as f:\n",
    "        input_text = f.read()\n",
    "    with open('output.txt', 'w') as f:\n",
    "        f.write(encrypt(input_text))\n",
    "        f.write('\\n')\n",
    "        f.write(decrypt(input_text))\n",
    "    print(\"Rail-Fence\")\n",
    "    print(\"\"\"1. Encrypt\n",
    "2. Decrypt\n",
    "3. Exit\"\"\")\n",
    "    choice = input(\"choice: \")\n",
    "    if choice == str(1):\n",
    "        encrypt()\n",
    "    elif choice == str(2):\n",
    "        decrypt()\n",
    "    elif choice == str(3):\n",
    "        exit()\n",
    "    else:\n",
    "        print(\"Invalid option\")\n",
    "    main()\n",
    "\n",
    "def encrypt(text):\n",
    "    text = text.replace('\\n', '')\n",
    "    text = text.replace(' ', '')\n",
    "    text = text.lower()\n",
    "    if len(text) == 0:\n",
    "        return ''\n",
    "    else:\n",
    "        rows = int(input('Enter the number of rows: '))\n",
    "        if rows == 1:\n",
    "            return text\n",
    "        else:\n",
    "            cipher = [[] for i in range(rows)]\n",
    "            for i in range(len(text)):\n",
    "                cipher[i % rows].append(text[i])\n",
    "            cipher = [''.join(i) for i in cipher]\n",
    "            return ''.join(cipher)\n",
    "    main()\n",
    "\n",
    "def decrypt(text):\n",
    "    text = text.replace('\\n', '')\n",
    "    text = text.replace(' ', '')\n",
    "    text = text.lower()\n",
    "    if len(text) == 0:\n",
    "        return ''\n",
    "    else:\n",
    "        rows = int(input('Enter the number of rows: '))\n",
    "        if rows == 1:\n",
    "            return text\n",
    "        else:\n",
    "            cipher = [[] for i in range(rows)]\n",
    "            for i in range(len(text)):\n",
    "                cipher[i % rows].append(text[i])\n",
    "            cipher = [''.join(i) for i in cipher]\n",
    "            return ''.join(cipher)\n",
    "    main()"
   ]
  }
 ],
 "metadata": {
  "kernelspec": {
   "display_name": "Python 3.10.6 64-bit",
   "language": "python",
   "name": "python3"
  },
  "language_info": {
   "codemirror_mode": {
    "name": "ipython",
    "version": 3
   },
   "file_extension": ".py",
   "mimetype": "text/x-python",
   "name": "python",
   "nbconvert_exporter": "python",
   "pygments_lexer": "ipython3",
   "version": "3.10.6"
  },
  "orig_nbformat": 4,
  "vscode": {
   "interpreter": {
    "hash": "26de051ba29f2982a8de78e945f0abaf191376122a1563185a90213a26c5da77"
   }
  }
 },
 "nbformat": 4,
 "nbformat_minor": 2
}
