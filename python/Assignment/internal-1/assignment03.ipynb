{
 "cells": [
  {
   "attachments": {},
   "cell_type": "markdown",
   "metadata": {},
   "source": [
    "# Assignment 03\n",
    "# Dhruba Saha"
   ]
  },
  {
   "attachments": {},
   "cell_type": "markdown",
   "metadata": {},
   "source": [
    "'''\n",
    "this is lsb-steganography technique for gray scale image. try to modify it for\n",
    "RGB image. 'data/1234.jpg' is the path where the image is stored\n",
    "'''"
   ]
  },
  {
   "cell_type": "code",
   "execution_count": 2,
   "metadata": {},
   "outputs": [],
   "source": [
    "\n",
    "from PIL import Image\n",
    "import numpy as np\n",
    "import matplotlib.pyplot as plt\n",
    "\n",
    "img = np.asarray(Image.open('data/input.jpg'))\n",
    "\n",
    "#plt.imshow(img, cmap='gray')\n",
    "\n",
    "W,H,C = img.shape\n",
    "\n",
    "#message processing\n",
    "message = input()\n",
    "message += '[END]'\n",
    "message = message.encode('ascii')\n",
    "message_bits = ''.join([format(i,'08b') for i in message])\n",
    "\n",
    "#encoding\n",
    "img = img.flatten()\n",
    "for idx, bit in enumerate(message_bits):\n",
    "    val = img[idx]\n",
    "    val = bin(val)\n",
    "    val = val[:-1] + bit\n",
    "    img[idx] = int(val,2)\n",
    "encoded_img = img.reshape((W,H,C))\n",
    "\n",
    "#plotting\n",
    "form_img = Image.fromarray(encoded_img)\n",
    "plt.imshow(form_img, cmap='gray')\n",
    "form_img.save(\"data/output.jpg\")"
   ]
  }
 ],
 "metadata": {
  "kernelspec": {
   "display_name": "Python 3",
   "language": "python",
   "name": "python3"
  },
  "language_info": {
   "codemirror_mode": {
    "name": "ipython",
    "version": 3
   },
   "file_extension": ".py",
   "mimetype": "text/x-python",
   "name": "python",
   "nbconvert_exporter": "python",
   "pygments_lexer": "ipython3",
   "version": "3.11.0"
  },
  "orig_nbformat": 4,
  "vscode": {
   "interpreter": {
    "hash": "cfda8635c9eecc896b3c721121da8a50ab91e909b2ca0473fb43f2334248cebb"
   }
  }
 },
 "nbformat": 4,
 "nbformat_minor": 2
}
