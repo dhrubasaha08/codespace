{
 "cells": [
  {
   "cell_type": "markdown",
   "metadata": {},
   "source": [
    "Rail-Fence Cipher"
   ]
  },
  {
   "cell_type": "code",
   "execution_count": 1,
   "metadata": {},
   "outputs": [
    {
     "name": "stdout",
     "output_type": "stream",
     "text": [
      "Rail-Fence Encryption/Decryption\n",
      "    1. Encrypt\n",
      "    2. Decrypt\n",
      "    3. Exit\n",
      "Encrypt\n",
      "Encrypted String: 1\n",
      "Rail-Fence Encryption/Decryption\n",
      "    1. Encrypt\n",
      "    2. Decrypt\n",
      "    3. Exit\n",
      "Encrypt\n",
      "Encrypted String: Dhruab\n",
      "Rail-Fence Encryption/Decryption\n",
      "    1. Encrypt\n",
      "    2. Decrypt\n",
      "    3. Exit\n",
      "Decrypt\n",
      "Decrypted String: Dhruba\n",
      "Rail-Fence Encryption/Decryption\n",
      "    1. Encrypt\n",
      "    2. Decrypt\n",
      "    3. Exit\n"
     ]
    },
    {
     "ename": "",
     "evalue": "",
     "output_type": "error",
     "traceback": [
      "\u001b[1;31mThe Kernel crashed while executing code in the the current cell or a previous cell. Please review the code in the cell(s) to identify a possible cause of the failure. Click <a href='https://aka.ms/vscodeJupyterKernelCrash'>here</a> for more info. View Jupyter <a href='command:jupyter.viewOutput'>log</a> for further details."
     ]
    }
   ],
   "source": [
    "def main():\n",
    "    print(\"\"\"Rail-Fence Encryption/Decryption\n",
    "    1. Encrypt\n",
    "    2. Decrypt\n",
    "    3. Exit\"\"\")\n",
    "    choice = input(\"choice: \")\n",
    "    if choice == str(1):\n",
    "        encrypt()\n",
    "    elif choice == str(2):\n",
    "        decrypt()\n",
    "    elif choice == str(3):\n",
    "        exit()\n",
    "    else:\n",
    "        print(\"Invalid option\")\n",
    "        main()\n",
    "\n",
    "def encrypt():\n",
    "    print(\"Encrypt\")\n",
    "    text = input(\"String: \")\n",
    "    key = int(input(\"Key: \"))\n",
    "    print(\"Encrypted String: \", end=\"\")\n",
    "    rail = [['\\n' for i in range(len(text))] for j in range(key)]\n",
    "    dir_down = False\n",
    "    row, col = 0, 0\n",
    "    for i in range(len(text)):\n",
    "        if (row == 0) or (row == key - 1):\n",
    "            dir_down = not dir_down\n",
    "        rail[row][col] = text[i]\n",
    "        col += 1\n",
    "        if dir_down:\n",
    "            row += 1\n",
    "        else:\n",
    "            row -= 1\n",
    "    result = []\n",
    "    for i in range(key):\n",
    "        for j in range(len(text)):\n",
    "            if rail[i][j] != '\\n':\n",
    "                result.append(rail[i][j])\n",
    "    print(\"\" . join(result))\n",
    "    main()\n",
    "\n",
    "def decrypt():\n",
    "    print(\"Decrypt\")\n",
    "    text = input(\"String: \")\n",
    "    key = int(input(\"Key: \"))\n",
    "    print(\"Decrypted String: \", end=\"\")\n",
    "    rail = [['\\n' for i in range(len(text))] for j in range(key)]\n",
    "    dir_down = None\n",
    "    row, col = 0, 0\n",
    "    for i in range(len(text)):\n",
    "        if row == 0:\n",
    "            dir_down = True\n",
    "        if row == key - 1:\n",
    "            dir_down = False\n",
    "        rail[row][col] = '*'\n",
    "        col += 1\n",
    "        if dir_down:\n",
    "            row += 1\n",
    "        else:\n",
    "            row -= 1\n",
    "    index = 0\n",
    "    for i in range(key):\n",
    "        for j in range(len(text)):\n",
    "            if ((rail[i][j] == '*') and\n",
    "                    (index < len(text))):\n",
    "                rail[i][j] = text[index]\n",
    "                index += 1\n",
    "    result = []\n",
    "    row, col = 0, 0\n",
    "    for i in range(len(text)):\n",
    "        if row == 0:\n",
    "            dir_down = True\n",
    "        if row == key-1:\n",
    "            dir_down = False\n",
    "        if (rail[row][col] != '*'):\n",
    "            result.append(rail[row][col])\n",
    "            col += 1\n",
    "        if dir_down:\n",
    "            row += 1\n",
    "        else:\n",
    "            row -= 1\n",
    "    print(\"\" . join(result))\n",
    "    main()\n",
    "\n",
    "main()"
   ]
  }
 ],
 "metadata": {
  "kernelspec": {
   "display_name": "Python 3.10.7 64-bit",
   "language": "python",
   "name": "python3"
  },
  "language_info": {
   "codemirror_mode": {
    "name": "ipython",
    "version": 3
   },
   "file_extension": ".py",
   "mimetype": "text/x-python",
   "name": "python",
   "nbconvert_exporter": "python",
   "pygments_lexer": "ipython3",
   "version": "3.10.7"
  },
  "orig_nbformat": 4,
  "vscode": {
   "interpreter": {
    "hash": "369f2c481f4da34e4445cda3fffd2e751bd1c4d706f27375911949ba6bb62e1c"
   }
  }
 },
 "nbformat": 4,
 "nbformat_minor": 2
}
